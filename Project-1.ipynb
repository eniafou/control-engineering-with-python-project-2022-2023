{
 "cells": [
  {
   "cell_type": "markdown",
   "metadata": {
    "tags": []
   },
   "source": [
    "# Wheelchair Control\n",
    "\n",
    "![](images/wheelchair.jpg)"
   ]
  },
  {
   "cell_type": "markdown",
   "metadata": {},
   "source": [
    "small chage"
   ]
  },
  {
   "cell_type": "markdown",
   "metadata": {},
   "source": [
    "### Python Dependencies"
   ]
  },
  {
   "cell_type": "code",
   "execution_count": 1,
   "metadata": {},
   "outputs": [],
   "source": [
    "from numpy import *\n",
    "from numpy.linalg import *\n",
    "\n",
    "from scipy.linalg import *\n",
    "from scipy.integrate import *\n",
    "from scipy.signal import *\n",
    "\n",
    "from matplotlib.pyplot import *"
   ]
  },
  {
   "cell_type": "markdown",
   "metadata": {
    "tags": []
   },
   "source": [
    "Step 1 - Wheelchair Planar Model\n",
    "================================"
   ]
  },
  {
   "cell_type": "markdown",
   "metadata": {
    "tags": []
   },
   "source": [
    "### Introduction"
   ]
  },
  {
   "cell_type": "markdown",
   "metadata": {
    "tags": []
   },
   "source": [
    "We consider a simple model of a wheelchair evolving in the plane. It is mainly made of\n",
    "\n",
    "  - A frame ; from above, its most visible component is the seat. We assume that it is a square,\n",
    "\n",
    "  - Two fixed wheels (their orientation with respect to the frame does not change). \n",
    "    They are parallel and located at opposite ends of the seat. \n",
    "    \n",
    "We assume that the seat backrest is on top of the wheels common axis.\n",
    "\n",
    "\n",
    "Let $(0, e_x, e_y)$ be a direct orthonormal frame of the plane. We denote \n",
    "\n",
    "  - $(x, y)$ the coordinates of the wheel axis center in the orthonormal and \n",
    "  - $\\theta$ the angle of the wheels direction with respect to vector $e_x$ ; with $\\theta = 0$ when the front of the wheelchait faces the right ($e_x$) and $\\theta = \\pi/2$ when it faces upwards ($e_y$).\n",
    "\n",
    "  - $\\phi_l$ and $\\phi_r$ the rotation angles of the left and right wheel respectively ; by convention, when these angles increase, the wheelchair moves forward."
   ]
  },
  {
   "cell_type": "markdown",
   "metadata": {
    "tags": []
   },
   "source": [
    "### Parameter Definition"
   ]
  },
  {
   "cell_type": "markdown",
   "metadata": {
    "tags": []
   },
   "source": [
    "From now on, we assume that the seat side length is $L = 50 \\mbox{ cm}$ and the wheel radius is $R_w = 30 \\mbox{ cm}$.\n",
    "\n",
    "🧩 Define the corresponding Python variables `L` and `Rw` (express every length in meters, and more generally in the sequel, always use the [international standard of units](https://en.wikipedia.org/wiki/SI_derived_unit)) for numerical values. "
   ]
  },
  {
   "cell_type": "code",
   "execution_count": 2,
   "metadata": {},
   "outputs": [],
   "source": [
    "pass"
   ]
  },
  {
   "cell_type": "markdown",
   "metadata": {},
   "source": [
    "### Graphical Representation\n",
    "\n",
    "🧩 Implement a function `draw_wheelchair` with arguments `x`, `y` and `theta` that draws a simple geometric model of the wheelchair (with seat and fixed wheels) in the plane (top view) for arbitrary values of $(x, y)$ and $\\theta$. \n",
    "\n",
    "🗝️ **Hint.** Use the function `plot` of `matplotlib.pyplot`."
   ]
  },
  {
   "cell_type": "code",
   "execution_count": 3,
   "metadata": {},
   "outputs": [],
   "source": [
    "def draw_wheelchair(x, y, theta):\n",
    "    pass"
   ]
  },
  {
   "cell_type": "markdown",
   "metadata": {},
   "source": [
    "🧩 Represent the wheelchair when $(x, y, \\theta) = (0, 0, 0), (2, 2, \\pi/2), (0, 4, \\pi), (-2, 2, 3\\pi/2)$.\n",
    "\n",
    "🗝️ **Hint.** Use the following `draw_arena` function beforehand."
   ]
  },
  {
   "cell_type": "code",
   "execution_count": 4,
   "metadata": {},
   "outputs": [],
   "source": [
    "def draw_arena(xmin, xmax, ymin, ymax):\n",
    "    wh_ratio = (xmax - xmin) / (ymax - ymin)\n",
    "    figsize = fig_width, fig_height = 16, 16 / wh_ratio\n",
    "    figure(figsize=figsize)\n",
    "    axes = gca()\n",
    "    axes.axis([xmin, xmax, ymin, ymax])\n",
    "    axes.set_aspect(1)\n",
    "    xticks(arange(xmin, xmax+1, 1))\n",
    "    yticks(arange(ymin, ymax+1, 1))\n",
    "    grid(True)"
   ]
  },
  {
   "cell_type": "code",
   "execution_count": 5,
   "metadata": {},
   "outputs": [],
   "source": [
    "pass"
   ]
  },
  {
   "cell_type": "markdown",
   "metadata": {},
   "source": [
    "### Kinematic Modeling\n",
    "\n",
    "We assume that we can control the wheels angular velocities $\\omega_l = \\dot{\\phi}_l$ and $\\omega_r = \\dot{\\phi}_r$ (this is a *kinematic* model of the wheelchair).\n",
    "We also assume that the wheelchair fixed wheels roll without slipping. \n",
    "\n",
    "🧩 Establish the differential equations that relate $\\dot{x}$,\n",
    "$\\dot{y}$ and $\\dot{\\theta}$ with $\\omega_l$ and $\\omega_r$."
   ]
  },
  {
   "cell_type": "markdown",
   "metadata": {},
   "source": [
    "**Answer:**"
   ]
  },
  {
   "cell_type": "markdown",
   "metadata": {},
   "source": [
    "### Analysis\n",
    "\n",
    "🧩 Show that if $\\omega_l$ and $\\omega_r$ are continuously differentiable functions of $(x, y, \\theta)$ (which includes the case of constant inputs), this system is well-posed."
   ]
  },
  {
   "cell_type": "markdown",
   "metadata": {},
   "source": [
    "**Answer:**"
   ]
  },
  {
   "cell_type": "markdown",
   "metadata": {},
   "source": [
    "🧩 Show that if $\\omega_l$ and $\\omega_r$ are constants, the maximal solution associated to any initial state is global. Is is still true of $\\omega_l$ and $\\omega_r$ are arbitrary continuously differentiable functions of $(x, y, \\theta)$ ?"
   ]
  },
  {
   "cell_type": "markdown",
   "metadata": {},
   "source": [
    "**Answer:**"
   ]
  },
  {
   "cell_type": "markdown",
   "metadata": {},
   "source": [
    "### Vector Field\n",
    "\n",
    "In the sequel, `omega` is a function that computes the input vector $\\omega := (\\omega_l, \\omega_r)$ given the time $t$ and $(x, y, \\theta)$ (thus, it may depend on the time and/or on the system state if needed). For example:"
   ]
  },
  {
   "cell_type": "code",
   "execution_count": 6,
   "metadata": {},
   "outputs": [],
   "source": [
    "def omega(t, xytheta):\n",
    "    omega_l = (1 - L/4) * pi / Rw\n",
    "    omega_r = (1 + L/4) * pi / Rw\n",
    "    return array([omega_l, omega_r])"
   ]
  },
  {
   "cell_type": "markdown",
   "metadata": {},
   "source": [
    "🧩 Implement a function `fun(t, xytheta)` that computes $(\\dot{x}, \\dot{y}, \\dot{\\theta})$ given the time $t$ and $(x,y,\\theta)$ (and implicitly the inputs $\\omega$ computed by the function `omega`)."
   ]
  },
  {
   "cell_type": "code",
   "execution_count": 7,
   "metadata": {},
   "outputs": [],
   "source": [
    "def fun(t, xytheta):\n",
    "    pass"
   ]
  },
  {
   "cell_type": "markdown",
   "metadata": {},
   "source": [
    "### Simulation Setup\n",
    "\n",
    "🧩 Simulate the wheelchair dynamics for 4 seconds when $(x_0, y_0, \\theta_0)(t=0) = (0.0, 0.0, 0.0)$,\n",
    "and the wheels velocities are the constants $\\omega_l = (1 - L/4)  \\pi / R \\mbox{ rad/s}$ and $\\omega_r = (1 + L/4)  \\pi / R_w \\mbox{ rad/s}$.\n",
    "(Compute the dense outputs.)\n",
    "   "
   ]
  },
  {
   "cell_type": "code",
   "execution_count": 8,
   "metadata": {},
   "outputs": [],
   "source": [
    "pass"
   ]
  },
  {
   "cell_type": "markdown",
   "metadata": {},
   "source": [
    "🧩 Use the simulation results to draw the graphs of $x(t)$, $y(t)$ and $\\theta(t)$."
   ]
  },
  {
   "cell_type": "code",
   "execution_count": 6,
   "metadata": {},
   "outputs": [],
   "source": [
    "pass"
   ]
  },
  {
   "cell_type": "markdown",
   "metadata": {},
   "source": [
    "🧩 Use the simulation results to display the robot location every 0.5 second."
   ]
  },
  {
   "cell_type": "code",
   "execution_count": 7,
   "metadata": {},
   "outputs": [],
   "source": [
    "pass"
   ]
  },
  {
   "cell_type": "markdown",
   "metadata": {},
   "source": [
    "🧩 What should be the analytical expression of $x(t)$, $y(t)$ and $\\theta(t)$? "
   ]
  },
  {
   "cell_type": "markdown",
   "metadata": {},
   "source": [
    "**Answer:**"
   ]
  },
  {
   "cell_type": "markdown",
   "metadata": {},
   "source": [
    "🧩 Do you experimental results match the theoretical results ? Draw the curves of the simulation error at time $t$ for $x$, $y$ and $\\theta$."
   ]
  },
  {
   "cell_type": "code",
   "execution_count": 8,
   "metadata": {},
   "outputs": [],
   "source": [
    "pass"
   ]
  },
  {
   "cell_type": "markdown",
   "metadata": {},
   "source": [
    "🧩 If needed, adjust the simulation parameters until this error is uniformly less than $2 \\times 10^{-5}$ for every component of $(x, y, \\theta)$."
   ]
  },
  {
   "cell_type": "code",
   "execution_count": 9,
   "metadata": {},
   "outputs": [],
   "source": [
    "pass"
   ]
  },
  {
   "cell_type": "markdown",
   "metadata": {},
   "source": [
    "Time dependent inputs\n",
    "---------------------"
   ]
  },
  {
   "cell_type": "markdown",
   "metadata": {},
   "source": [
    "We are going to simulate the case of the chariot controlled by time-dependent angular velocities $\\omega_l$ and $\\omega_r$. \n",
    "We want a simulation lasting 5 seconds with the following inputs:\n",
    "$$\n",
    "    \\omega_l(t) = \\left\\{\n",
    "       \\begin{array}{rl}\n",
    "           (1 - L/4) \\pi / R_w & \\mbox{when $t \\leq 1s$ or $t \\geq 3$,} \\\\\n",
    "           (1 + L/4) \\pi / R_w & \\mbox{otherwise.}\n",
    "       \\end{array}\n",
    "    \\right.\n",
    "$$\n",
    "and\n",
    "$$\n",
    "    \\omega_r(t) = \\left\\{\n",
    "       \\begin{array}{rl}\n",
    "           (1 + L/4) \\pi / R_w & \\mbox{when $t \\leq 1s$ or $t \\geq 3$,} \\\\\n",
    "           (1 - L/4) \\pi / R_w & \\mbox{otherwise.}\n",
    "       \\end{array}\n",
    "    \\right.\n",
    "$$"
   ]
  },
  {
   "cell_type": "markdown",
   "metadata": {
    "tags": []
   },
   "source": [
    "##### 🧩 Provide the new definition of `omega`"
   ]
  },
  {
   "cell_type": "code",
   "execution_count": 13,
   "metadata": {},
   "outputs": [],
   "source": [
    "def omega(t, xytheta):\n",
    "    pass"
   ]
  },
  {
   "cell_type": "markdown",
   "metadata": {
    "tags": []
   },
   "source": [
    "##### 🧩 Make a simulation of 3s of the robot with the previous input "
   ]
  },
  {
   "cell_type": "markdown",
   "metadata": {
    "jp-MarkdownHeadingCollapsed": true,
    "tags": []
   },
   "source": [
    "Use the `rtol` and `atol` that used to guarantee a precision of $10^{-5}$ and by using the `dense_output` option to evaluate the solution at timesteps that will be defined later.\n",
    "\n",
    "🗝️ **Hint.** It is not necessary to define again the function `fun`. If the previous cell has been correctly validated, `fun` will use the new definition of `omega`. "
   ]
  },
  {
   "cell_type": "code",
   "execution_count": 14,
   "metadata": {},
   "outputs": [],
   "source": [
    "pass"
   ]
  },
  {
   "cell_type": "markdown",
   "metadata": {},
   "source": [
    "🧩 Use the simulation results to display the robot location every 0.5 seconds."
   ]
  },
  {
   "cell_type": "code",
   "execution_count": 10,
   "metadata": {},
   "outputs": [],
   "source": [
    "pass"
   ]
  },
  {
   "cell_type": "markdown",
   "metadata": {},
   "source": [
    "## Analysis of the system at rest"
   ]
  },
  {
   "cell_type": "markdown",
   "metadata": {},
   "source": [
    "### Equilibrium"
   ]
  },
  {
   "cell_type": "markdown",
   "metadata": {
    "tags": []
   },
   "source": [
    "##### 🧩 Show that for a suitable (constant) choice $\\omega_e \\in \\mathbb{R}^2$ of the vector input $\\omega$, the state $X_e = (x_e, y_e, \\theta_e) = (0,0,0)$ is an equilibrium of the wheelchair kinematic model."
   ]
  },
  {
   "cell_type": "markdown",
   "metadata": {},
   "source": [
    "**Answer:**"
   ]
  },
  {
   "cell_type": "markdown",
   "metadata": {
    "tags": []
   },
   "source": [
    "##### 🧩 Show that for any other $\\omega_e$, the system has no equilibrium."
   ]
  },
  {
   "cell_type": "markdown",
   "metadata": {},
   "source": [
    "**Answer:**"
   ]
  },
  {
   "cell_type": "markdown",
   "metadata": {
    "tags": []
   },
   "source": [
    "##### 🧩 Conversely, if $\\omega = \\omega_e$, what are the other equilibria of the system?"
   ]
  },
  {
   "cell_type": "markdown",
   "metadata": {},
   "source": [
    "**Answer:**"
   ]
  },
  {
   "cell_type": "markdown",
   "metadata": {},
   "source": [
    "### Linearized System Model\n",
    "\n",
    "\n",
    "Let $\\omega = \\omega_e$ and $X_e = (0,0,0)$. Let us introduce the the error variable $\\Delta X = (\\Delta x, \\Delta y, \\Delta \\theta) = X - X_e$ and $\\Delta \\omega = \\omega - \\omega_e$."
   ]
  },
  {
   "cell_type": "markdown",
   "metadata": {
    "tags": []
   },
   "source": [
    "##### 🧩 Compute the corresponding linearized dynamics and put it in standard form: compute the matrices $A$ and $B$ (remember that $\\omega = (\\omega_l,\\omega_r)$)."
   ]
  },
  {
   "cell_type": "markdown",
   "metadata": {},
   "source": [
    "**Answer:**"
   ]
  },
  {
   "cell_type": "markdown",
   "metadata": {
    "tags": []
   },
   "source": [
    "### Stability of the linearized system"
   ]
  },
  {
   "cell_type": "markdown",
   "metadata": {
    "tags": []
   },
   "source": [
    "##### 🧩 Is the linearized system asymptotically stable around $(0,0,0)$ when $\\Delta \\omega = (0,0)$ ?"
   ]
  },
  {
   "cell_type": "markdown",
   "metadata": {},
   "source": [
    "**Answer:**"
   ]
  },
  {
   "cell_type": "markdown",
   "metadata": {
    "tags": []
   },
   "source": [
    "##### 🧩 Is the original system asymptotically stable ? Or even (locally) attractive ? "
   ]
  },
  {
   "cell_type": "markdown",
   "metadata": {},
   "source": [
    "**Answer:**"
   ]
  },
  {
   "cell_type": "markdown",
   "metadata": {
    "tags": []
   },
   "source": [
    "### Controllability of the linearized system"
   ]
  },
  {
   "cell_type": "markdown",
   "metadata": {
    "tags": []
   },
   "source": [
    "In this section, we consider only the linearized system defined by the matrices $A$ and $B$ computed previously:\n",
    "\n",
    "$$\n",
    "\\frac{\\Delta X}{dt} = A \\Delta X + B\\Delta u\n",
    "$$"
   ]
  },
  {
   "cell_type": "markdown",
   "metadata": {
    "tags": []
   },
   "source": [
    "##### 🧩 Is there an admissible trajectory that start with the state $X_0=(-2,0,0)$ and ends at origin after some time?  "
   ]
  },
  {
   "cell_type": "markdown",
   "metadata": {},
   "source": [
    "**Answer:**"
   ]
  },
  {
   "cell_type": "markdown",
   "metadata": {
    "tags": []
   },
   "source": [
    "##### 🧩 Is there an admissible trajectory that start with the state $X_0=(0,2,0)$ and ends at origin after some time?  "
   ]
  },
  {
   "cell_type": "markdown",
   "metadata": {},
   "source": [
    "**Answer:**"
   ]
  },
  {
   "cell_type": "markdown",
   "metadata": {
    "tags": []
   },
   "source": [
    "##### 🧩 Is the linearized system controllable?"
   ]
  },
  {
   "cell_type": "markdown",
   "metadata": {},
   "source": [
    "**Answer:**"
   ]
  },
  {
   "cell_type": "markdown",
   "metadata": {
    "tags": []
   },
   "source": [
    "## Control on a straight line\n",
    "\n",
    "### Admissible trajectories"
   ]
  },
  {
   "cell_type": "markdown",
   "metadata": {},
   "source": [
    "Let $x_R(t) = v t$ and $y_R(t) = 0$ where $v \\in \\mathbb{R}$ and $v \\neq 0$. "
   ]
  },
  {
   "cell_type": "markdown",
   "metadata": {
    "tags": []
   },
   "source": [
    "##### 🧩 Determine the set of trajectories $X_R(t) = (x_R(t), y_R(t), \\theta_R(t))$ which are admissible and compute the corresponding reference control $\\omega_{R}(t)$."
   ]
  },
  {
   "cell_type": "markdown",
   "metadata": {},
   "source": [
    "**Answer:**"
   ]
  },
  {
   "cell_type": "markdown",
   "metadata": {},
   "source": [
    "### Linearized system"
   ]
  },
  {
   "cell_type": "markdown",
   "metadata": {},
   "source": [
    "Let $\\Delta X(t) = X(t) - X_R(t)$ and $\\Delta \\omega(t) = \\omega(t) - \\omega_R(t)$."
   ]
  },
  {
   "cell_type": "markdown",
   "metadata": {
    "tags": []
   },
   "source": [
    "##### 🧩 Compute the linearized dynamics of the system for the class of trajectory \"moving forward\"."
   ]
  },
  {
   "cell_type": "markdown",
   "metadata": {},
   "source": [
    "**Answer:**"
   ]
  },
  {
   "cell_type": "markdown",
   "metadata": {
    "tags": []
   },
   "source": [
    "##### 🧩 Is the system asymptotically stable, with $\\Delta\\omega(t)=0$?"
   ]
  },
  {
   "cell_type": "markdown",
   "metadata": {},
   "source": [
    "**Answer:**"
   ]
  },
  {
   "cell_type": "markdown",
   "metadata": {
    "tags": []
   },
   "source": [
    "##### 🧩 Is the system attractive, with $\\Delta\\omega(t)=0$?"
   ]
  },
  {
   "cell_type": "markdown",
   "metadata": {},
   "source": [
    "**Answer:**"
   ]
  },
  {
   "cell_type": "markdown",
   "metadata": {
    "tags": []
   },
   "source": [
    "##### 🧩 Show that the linearized system is controllable."
   ]
  },
  {
   "cell_type": "markdown",
   "metadata": {},
   "source": [
    "**Answer:**"
   ]
  },
  {
   "cell_type": "markdown",
   "metadata": {},
   "source": [
    "### Linearized system implementation"
   ]
  },
  {
   "cell_type": "markdown",
   "metadata": {},
   "source": [
    "In the sequel, we will use $v=4.8 \\mbox{ km/h}$."
   ]
  },
  {
   "cell_type": "markdown",
   "metadata": {},
   "source": [
    "##### 🧩 Implement and print the matrices $A$ and $B$"
   ]
  },
  {
   "cell_type": "code",
   "execution_count": 11,
   "metadata": {},
   "outputs": [],
   "source": [
    "pass"
   ]
  },
  {
   "cell_type": "markdown",
   "metadata": {},
   "source": [
    "The linear model has to be fed with some $\\Delta\\omega$ input. Like for the nonlinear system, we define a function $\\Delta\\omega(t,\\Delta_X)$ that computes the input of the linearized system. For example, if we do not want any correction to the reference input, we set:"
   ]
  },
  {
   "cell_type": "code",
   "execution_count": 17,
   "metadata": {},
   "outputs": [],
   "source": [
    "def deltaOmega(t, deltaX):\n",
    "    return array([0, 0, 0])"
   ]
  },
  {
   "cell_type": "markdown",
   "metadata": {},
   "source": [
    "##### 🧩 Using this function `deltaOmega`, define a function `lin_fun` that computes $d{\\Delta X}/dt$ given the arguments `t` and `deltaX`$."
   ]
  },
  {
   "cell_type": "code",
   "execution_count": 12,
   "metadata": {},
   "outputs": [],
   "source": [
    "def lin_fun(t, deltaX):\n",
    "    pass"
   ]
  },
  {
   "cell_type": "markdown",
   "metadata": {},
   "source": [
    "### Controller Design on the linearized system"
   ]
  },
  {
   "cell_type": "markdown",
   "metadata": {},
   "source": [
    "##### 🧩 Implement a process that computes a gain matrix $K$ that places the poles of the linearized system at some arbitrary location. \n",
    "\n",
    "For this question, we will chose 3 real poles close to -0.5.\n",
    "\n",
    "Then, print the poles of the closed-loop system\n",
    "\n",
    "$$\n",
    "\\frac{d\\Delta X}{dt}= A \\Delta X + B\\Delta\\omega\n",
    "\\; \\mbox{ with } \\;\n",
    "\\Delta\\omega = -K \\Delta X.\n",
    "$$"
   ]
  },
  {
   "cell_type": "code",
   "execution_count": 13,
   "metadata": {},
   "outputs": [],
   "source": [
    "pass"
   ]
  },
  {
   "cell_type": "markdown",
   "metadata": {},
   "source": [
    "##### 🧩 Simulate the linearized system during 20s, with the initial condition $\\Delta X(0) = (0,2,0)$."
   ]
  },
  {
   "cell_type": "code",
   "execution_count": 14,
   "metadata": {},
   "outputs": [],
   "source": [
    "pass"
   ]
  },
  {
   "cell_type": "markdown",
   "metadata": {},
   "source": [
    "🧩 Plot the values of $\\Delta x(t)$, $\\Delta y(t)$ and $\\Delta\\theta(t)$ (**plot $\\Delta\\theta(t)$ in degrees**)"
   ]
  },
  {
   "cell_type": "code",
   "execution_count": 15,
   "metadata": {},
   "outputs": [],
   "source": [
    "pass"
   ]
  },
  {
   "cell_type": "markdown",
   "metadata": {},
   "source": [
    "##### 🧩 Why is it important to check that $\\Delta\\theta(t)$ stays small ?"
   ]
  },
  {
   "cell_type": "markdown",
   "metadata": {},
   "source": [
    "**Answer:**"
   ]
  },
  {
   "cell_type": "markdown",
   "metadata": {},
   "source": [
    "##### 🧩 Compute the corresponding values of $\\Delta\\omega_l,\\Delta\\omega_r$ and store them in the Python variables `dOmega_l`, `dOmega_r`"
   ]
  },
  {
   "cell_type": "code",
   "execution_count": 16,
   "metadata": {},
   "outputs": [],
   "source": [
    "pass"
   ]
  },
  {
   "cell_type": "markdown",
   "metadata": {},
   "source": [
    "##### 🧩 Compute $\\omega_l,\\omega_r$ and plot the translation speed of each wheels in km/h"
   ]
  },
  {
   "cell_type": "code",
   "execution_count": 17,
   "metadata": {},
   "outputs": [],
   "source": [
    "pass"
   ]
  },
  {
   "cell_type": "markdown",
   "metadata": {},
   "source": [
    "##### 🧩 Are these control values consistent with what the robot should do to cancel the error?"
   ]
  },
  {
   "cell_type": "markdown",
   "metadata": {},
   "source": [
    "**Answer:**"
   ]
  },
  {
   "cell_type": "markdown",
   "metadata": {},
   "source": [
    "###  Controller Tuning\n",
    "\n"
   ]
  },
  {
   "cell_type": "markdown",
   "metadata": {},
   "source": [
    "##### 🧩 Tune the poles (and recompute the gain matrix) so that the actual location $(x, y)$ is within 10 cm of the desired location within 20 sec and the linear velocity of each wheel never exceeds $5$ km/h. Plot the values of $\\Delta x$ (in m), $\\Delta y$ (in m), $\\Delta \\theta$ (in degrees), and the speed of each wheel (in km/h)"
   ]
  },
  {
   "cell_type": "code",
   "execution_count": 18,
   "metadata": {},
   "outputs": [],
   "source": [
    "pass"
   ]
  },
  {
   "cell_type": "markdown",
   "metadata": {},
   "source": [
    "##### 🧩 Simulate the initial, nonlinear wheelchair model when the control law computed in the section \"Controller Tuning\" is applied. Check that the constraint given for the control law design still hold."
   ]
  },
  {
   "cell_type": "code",
   "execution_count": 25,
   "metadata": {},
   "outputs": [],
   "source": [
    "pass"
   ]
  },
  {
   "cell_type": "markdown",
   "metadata": {},
   "source": [
    "##### 🧩 Display this trajectory using a snapshot of the wheelchair in the plane every second."
   ]
  },
  {
   "cell_type": "code",
   "execution_count": 19,
   "metadata": {},
   "outputs": [],
   "source": [
    "pass"
   ]
  },
  {
   "cell_type": "code",
   "execution_count": 29,
   "metadata": {},
   "outputs": [],
   "source": [
    "def Compute_cost(deltaX, deltaOmega):\n",
    "    pass"
   ]
  },
  {
   "cell_type": "markdown",
   "metadata": {},
   "source": [
    "🧩 Test the function `Compute_cost`  with the controller you designed in the Section 'Controller Tuning' when $q_i=1$ and $r_i=1$ ($t_f=20$)."
   ]
  },
  {
   "cell_type": "code",
   "execution_count": 30,
   "metadata": {},
   "outputs": [],
   "source": [
    "pass"
   ]
  },
  {
   "cell_type": "markdown",
   "metadata": {},
   "source": [
    "🧩 Multiply by 10 the poles and test the function `Compute_cost` in this new case. Interpret the results. "
   ]
  },
  {
   "cell_type": "code",
   "execution_count": 20,
   "metadata": {},
   "outputs": [],
   "source": [
    "pass"
   ]
  },
  {
   "cell_type": "markdown",
   "metadata": {},
   "source": [
    "🧩 Implement a process that computes a gain matrix $K$ that places the poles of the linearized system such that the quantity $J$ is minimum with \"$t_f=+\\infty$\".\n",
    "\n",
    "Then, for $q_i=1$, $r_i=1$, print the poles of the closed-loop system:\n",
    "\n",
    "$$\n",
    "\\frac{\\Delta X}{dt}= A \\Delta X + B\\Delta\\omega\n",
    "\\; \\mbox{ with } \\;\n",
    "\\Delta\\omega = -K \\Delta X.\n",
    "$$"
   ]
  },
  {
   "cell_type": "code",
   "execution_count": 21,
   "metadata": {},
   "outputs": [],
   "source": [
    "pass"
   ]
  },
  {
   "cell_type": "markdown",
   "metadata": {},
   "source": [
    "🧩 Plot the values of $\\Delta x$ (in m), $\\Delta y$ (in m), $\\Delta \\theta$ (in degrees), and the speed of each wheel (in km/h). Compute the value of the cost for $t_f=20$. Compare with the control law you obtained by pole assignment. Intepret the results."
   ]
  },
  {
   "cell_type": "code",
   "execution_count": 22,
   "metadata": {},
   "outputs": [],
   "source": [
    "pass"
   ]
  },
  {
   "cell_type": "markdown",
   "metadata": {},
   "source": [
    "🧩 Try large values of $Q$ then large values of $R$ and explain how these choices influence the control effort as well as the convergence speed. Do you think that both strategies will perform similarly when applied to the wheelchair nonlinear model? Then select $Q$ and $R$ to ensure that the wheel velocity nevers exceeds 5 km/h and that $x$ and $y$ have less than 10 cm error after 20 sec. "
   ]
  },
  {
   "cell_type": "code",
   "execution_count": 23,
   "metadata": {},
   "outputs": [],
   "source": [
    "pass"
   ]
  },
  {
   "cell_type": "markdown",
   "metadata": {},
   "source": [
    "### Controller validation\n",
    "\n",
    "The goal of this part is to test the controller on the **true** non linear system.\n",
    "\n",
    "We are going to simulate the original `fun` function, but to do this, we need to define a new version of the function `omega` that computes the wheel velocities given `t` and `xytheta`.\n",
    "    \n",
    "🧩 Implement this new version of `omega`."
   ]
  },
  {
   "cell_type": "code",
   "execution_count": 24,
   "metadata": {},
   "outputs": [],
   "source": [
    "pass"
   ]
  },
  {
   "cell_type": "markdown",
   "metadata": {},
   "source": [
    "🧩 Simulate the true system during 20 sec using the pole placement controller designed during the 'Controller Tuning'."
   ]
  },
  {
   "cell_type": "code",
   "execution_count": 25,
   "metadata": {},
   "outputs": [],
   "source": [
    "pass"
   ]
  },
  {
   "cell_type": "markdown",
   "metadata": {},
   "source": [
    "🧩 Plot $x(t)$, $y(t)$, $\\theta(t)$, $\\omega_l(t)$ and $\\omega_r(t)$."
   ]
  },
  {
   "cell_type": "code",
   "execution_count": 26,
   "metadata": {},
   "outputs": [],
   "source": [
    "pass"
   ]
  },
  {
   "cell_type": "markdown",
   "metadata": {},
   "source": [
    "🧩 Use the simulation results to display the wheelchair location every 1 second."
   ]
  },
  {
   "cell_type": "code",
   "execution_count": 27,
   "metadata": {},
   "outputs": [],
   "source": [
    "pass"
   ]
  },
  {
   "cell_type": "markdown",
   "metadata": {},
   "source": [
    "🧩 Make a similar drawing but add to the wheelchair real location the wheelchair reference location in the background; use the blue color to represent this \"virtual\" weelchair."
   ]
  },
  {
   "cell_type": "code",
   "execution_count": 28,
   "metadata": {},
   "outputs": [],
   "source": [
    "pass"
   ]
  },
  {
   "cell_type": "markdown",
   "metadata": {},
   "source": [
    "🧩 We now aim to compare the different control strategies. We consider the pole placement strategy and two optimal controllers (one with a large $Q$ and one with a large $R$). Run the simulations with the these extreme controllers, then with the controller that met the design constraints when tested on the linear model. Adjust slightly the parameters of the latter model if the constraints are not met anymore, so that they are met again."
   ]
  },
  {
   "cell_type": "code",
   "execution_count": 29,
   "metadata": {},
   "outputs": [],
   "source": [
    "pass"
   ]
  },
  {
   "cell_type": "markdown",
   "metadata": {},
   "source": [
    "🧩 Your wheelchair faces some strong wind (constant speed). How can you model the effect of this wind? Show the impact on the performance of your controller (with your controller of your choice)."
   ]
  },
  {
   "cell_type": "code",
   "execution_count": 30,
   "metadata": {},
   "outputs": [],
   "source": [
    "pass"
   ]
  },
  {
   "cell_type": "markdown",
   "metadata": {},
   "source": [
    "🧩 What happens if the controller brutally stops at t=10s?"
   ]
  },
  {
   "cell_type": "code",
   "execution_count": 55,
   "metadata": {},
   "outputs": [],
   "source": [
    "pass"
   ]
  },
  {
   "cell_type": "markdown",
   "metadata": {},
   "source": [
    "🧩 What if additionally to the initial position mismatch the wheelchair starts with a wrong orientation (say $\\theta=\\pi/2$)?"
   ]
  },
  {
   "cell_type": "code",
   "execution_count": 31,
   "metadata": {},
   "outputs": [],
   "source": [
    "pass"
   ]
  },
  {
   "cell_type": "markdown",
   "metadata": {},
   "source": [
    "🧩 Write the coordinates $(x_f, y_f)$ of this location as a function of $x$, $y$ and $\\theta$. "
   ]
  },
  {
   "cell_type": "markdown",
   "metadata": {},
   "source": [
    "**Answer:**"
   ]
  },
  {
   "cell_type": "markdown",
   "metadata": {},
   "source": [
    "🧩 Write the differential equation satisfied by $(x_f, y_f)$. "
   ]
  },
  {
   "cell_type": "markdown",
   "metadata": {},
   "source": [
    "**Answer:**"
   ]
  },
  {
   "cell_type": "markdown",
   "metadata": {},
   "source": [
    "🧩 Show any (smooth) reference evolution of the person feet $(x_f^r(t), y_f^r(t))$ and any initial state of the wheelchair consistent with the initial feet location, there is an admissible trajectory $(x(t), y(t), \\theta(t))$ that corresponds to this reference. Hint: search the unique $\\omega_l(t)$ and $\\omega_r(t)$ -- as functions of $\\dot{x}_f^r(t)$, $\\dot{y}_f^r(t)$ and $\\theta(t)$ -- that satisfies this property. "
   ]
  },
  {
   "cell_type": "markdown",
   "metadata": {},
   "source": [
    "**Answer:**"
   ]
  },
  {
   "cell_type": "markdown",
   "metadata": {},
   "source": [
    "🧩 Let $v>0$ be the value in m/s that corresponds to $4.8$ km/h and let $(x_f^r(t), y_f^r(t)) = (vt, 0)$.\n",
    "Simulate the wheelchair evolution with the choice for $\\omega_l$ and $\\omega_r$ of the previous question for $X(0) = (-L-M, 0, 0)$. Represent the wheelchair every second with an extra dot for the feet location.\n",
    "\n",
    "Then, try the simulation with \n",
    "$$\n",
    "X(0) = (-(L+M)\\cos(\\theta), -(L+M)\\sin(\\theta),\\alpha)\n",
    "$$ \n",
    "for different values of $\\alpha = \\theta(0)$. In particular, investigate the case of à $\\theta(0)$ close to $0$, then close to $\\pi$). Is the system dynamics asymptotically stable in each case?"
   ]
  },
  {
   "cell_type": "code",
   "execution_count": 32,
   "metadata": {},
   "outputs": [],
   "source": [
    "pass"
   ]
  },
  {
   "cell_type": "markdown",
   "metadata": {},
   "source": [
    "🧩 Consider three pillars (of small radius) whose centers are aligned and distant of 2 meters, say at the locations\n",
    "$$\n",
    "(1.0,0), (3.0, 0) \\mbox{ and } (5.0,0).\n",
    "$$\n",
    "Compute a reference trajectory trajectory that would lead the feetfrom $(0,0)$ to $(6,0)$ with a slalom between the pillars. Of course, you don't want the robot frame to bump into the pillars ! Display this trajectory graphically. What happens when if the inputs $\\omega_l(t)$ and $\\omega_r(t)$ are applied but the robot is not initially at the expected position ?"
   ]
  },
  {
   "cell_type": "markdown",
   "metadata": {},
   "source": [
    "**Answer:**"
   ]
  },
  {
   "cell_type": "code",
   "execution_count": 33,
   "metadata": {},
   "outputs": [],
   "source": [
    "pass"
   ]
  }
 ],
 "metadata": {
  "kernelspec": {
   "display_name": "Python 3 (ipykernel)",
   "language": "python",
   "name": "python3"
  },
  "language_info": {
   "codemirror_mode": {
    "name": "ipython",
    "version": 3
   },
   "file_extension": ".py",
   "mimetype": "text/x-python",
   "name": "python",
   "nbconvert_exporter": "python",
   "pygments_lexer": "ipython3",
   "version": "3.8.10"
  }
 },
 "nbformat": 4,
 "nbformat_minor": 4
}
